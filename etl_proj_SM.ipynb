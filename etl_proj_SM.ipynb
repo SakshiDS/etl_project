{
 "cells": [
  {
   "cell_type": "code",
   "execution_count": 175,
   "id": "ea40575c",
   "metadata": {},
   "outputs": [],
   "source": [
    "import pandas as pd\n",
    "import numpy as np"
   ]
  },
  {
   "cell_type": "code",
   "execution_count": 176,
   "id": "a80e8cdb",
   "metadata": {},
   "outputs": [
    {
     "data": {
      "text/plain": [
       "Index(['INCIDENT_ID', 'DATA_YEAR', 'ORI', 'PUB_AGENCY_NAME', 'PUB_AGENCY_UNIT',\n",
       "       'AGENCY_TYPE_NAME', 'STATE_ABBR', 'STATE_NAME', 'DIVISION_NAME',\n",
       "       'REGION_NAME', 'POPULATION_GROUP_CODE', 'POPULATION_GROUP_DESC',\n",
       "       'INCIDENT_DATE', 'ADULT_VICTIM_COUNT', 'JUVENILE_VICTIM_COUNT',\n",
       "       'TOTAL_OFFENDER_COUNT', 'ADULT_OFFENDER_COUNT',\n",
       "       'JUVENILE_OFFENDER_COUNT', 'OFFENDER_RACE', 'OFFENDER_ETHNICITY',\n",
       "       'VICTIM_COUNT', 'OFFENSE_NAME', 'TOTAL_INDIVIDUAL_VICTIMS',\n",
       "       'LOCATION_NAME', 'BIAS_DESC', 'VICTIM_TYPES', 'MULTIPLE_OFFENSE',\n",
       "       'MULTIPLE_BIAS'],\n",
       "      dtype='object')"
      ]
     },
     "execution_count": 176,
     "metadata": {},
     "output_type": "execute_result"
    }
   ],
   "source": [
    "hate_crime_df = pd.read_csv(\"../Datasets/hate_crime.csv\", low_memory=False)\n",
    "hate_crime_df.columns"
   ]
  },
  {
   "cell_type": "code",
   "execution_count": 177,
   "id": "985de817",
   "metadata": {},
   "outputs": [],
   "source": [
    "hate_crime_df = hate_crime_df.fillna(np.nan).replace([np.nan], [None])"
   ]
  },
  {
   "cell_type": "code",
   "execution_count": 178,
   "id": "234a813d",
   "metadata": {},
   "outputs": [],
   "source": [
    "hate_crime_df[\"BIAS_DESC\"] = hate_crime_df[\"BIAS_DESC\"].str.replace(\",\",\" \")\n",
    "hate_crime_df[\"OFFENSE_NAME\"] = hate_crime_df[\"OFFENSE_NAME\"].str.replace(\",\",\" \")\n",
    "hate_crime_df[\"POPULATION_GROUP_DESC\"] = hate_crime_df[\"POPULATION_GROUP_DESC\"].str.replace(\",\",\" \")\n",
    "hate_crime_df[\"PUB_AGENCY_UNIT\"] = hate_crime_df[\"PUB_AGENCY_UNIT\"].str.replace(\",\",\" \")\n",
    "hate_crime_df[\"PUB_AGENCY_NAME\"] = hate_crime_df[\"PUB_AGENCY_NAME\"].str.replace(\",\",\" \")"
   ]
  },
  {
   "cell_type": "markdown",
   "id": "8003e01b",
   "metadata": {},
   "source": [
    "* Creating two seperate dataframes as per the data model for 2 tables."
   ]
  },
  {
   "cell_type": "code",
   "execution_count": 179,
   "id": "4e2c378e",
   "metadata": {},
   "outputs": [],
   "source": [
    "hc_incident_df = hate_crime_df[['INCIDENT_ID', 'DATA_YEAR',\n",
    "       'INCIDENT_DATE', 'ADULT_VICTIM_COUNT', 'JUVENILE_VICTIM_COUNT',\n",
    "       'TOTAL_OFFENDER_COUNT', 'ADULT_OFFENDER_COUNT',\n",
    "       'JUVENILE_OFFENDER_COUNT', 'OFFENDER_RACE', 'OFFENDER_ETHNICITY',\n",
    "       'VICTIM_COUNT', 'OFFENSE_NAME', 'TOTAL_INDIVIDUAL_VICTIMS',\n",
    "       'BIAS_DESC', 'VICTIM_TYPES', 'MULTIPLE_OFFENSE',\n",
    "       'MULTIPLE_BIAS', 'ORI', 'LOCATION_NAME']]\n",
    "\n",
    "hc_location_df = hate_crime_df[['ORI', 'PUB_AGENCY_NAME', 'PUB_AGENCY_UNIT', 'AGENCY_TYPE_NAME',\n",
    "       'STATE_ABBR', 'STATE_NAME', 'DIVISION_NAME', 'REGION_NAME',\n",
    "       'POPULATION_GROUP_CODE', 'POPULATION_GROUP_DESC', 'LOCATION_NAME']]\n",
    "hc_location_df = hc_location_df.drop_duplicates(subset=['ORI', 'LOCATION_NAME'], keep=False)"
   ]
  },
  {
   "cell_type": "code",
   "execution_count": 180,
   "id": "390bdb49",
   "metadata": {},
   "outputs": [
    {
     "data": {
      "text/plain": [
       "(219577, 19)"
      ]
     },
     "metadata": {},
     "output_type": "display_data"
    },
    {
     "data": {
      "text/plain": [
       "(23299, 11)"
      ]
     },
     "execution_count": 180,
     "metadata": {},
     "output_type": "execute_result"
    }
   ],
   "source": [
    "display(hc_incident_df.shape)\n",
    "hc_location_df.shape"
   ]
  },
  {
   "cell_type": "code",
   "execution_count": 181,
   "id": "2817dbec",
   "metadata": {},
   "outputs": [],
   "source": [
    "hc_incident_df.to_csv(\"incident.csv\", index=False)\n",
    "hc_location_df.to_csv(\"location.csv\", index=False)"
   ]
  },
  {
   "cell_type": "code",
   "execution_count": 182,
   "id": "e50af6c2",
   "metadata": {},
   "outputs": [],
   "source": [
    "# Import the module to run psycopg2\n",
    "import psycopg2\n",
    "\n",
    "# Import the .py file that I created to store my password\n",
    "from passwords import password\n",
    "\n"
   ]
  },
  {
   "cell_type": "code",
   "execution_count": 183,
   "id": "06c6a2ec",
   "metadata": {},
   "outputs": [],
   "source": [
    "# Connect to my postgreSQL dvdrental database with default connections\n",
    "# Need to add my password for it to work\n",
    "\n",
    "# The instantiates a persistant client to speak with\n",
    "conn = psycopg2.connect(host='localhost', dbname='postgres', user='postgres', password=password)\n",
    "\n",
    "# The above 'conn' code created a connection \"object\" for us to use in future code\n",
    "\n",
    "conn.autocommit = True"
   ]
  },
  {
   "cell_type": "code",
   "execution_count": 184,
   "id": "63827777",
   "metadata": {},
   "outputs": [
    {
     "name": "stdout",
     "output_type": "stream",
     "text": [
      "Database created successfully........\n"
     ]
    }
   ],
   "source": [
    "#Creating a cursor object using the cursor() method\n",
    "cursor = conn.cursor()\n",
    "\n",
    "#Preparing query to create a database\n",
    "sql = '''CREATE database hate_crime''';\n",
    "\n",
    "#Creating a database\n",
    "cursor.execute(sql)\n",
    "print(\"Database created successfully........\")\n",
    "\n",
    "#Closing the connection\n",
    "conn.close()"
   ]
  },
  {
   "cell_type": "code",
   "execution_count": 185,
   "id": "17103f42",
   "metadata": {},
   "outputs": [
    {
     "name": "stdout",
     "output_type": "stream",
     "text": [
      "Table created\n"
     ]
    }
   ],
   "source": [
    "conn = psycopg2.connect(host='localhost', dbname='hate_crime', user='postgres', password=password)\n",
    "\n",
    "cursor = conn.cursor()\n",
    "\n",
    "cursor.execute(\"\"\"CREATE TABLE incident(\n",
    "    INCIDENT_ID integer PRIMARY KEY,\n",
    "    DATA_YEAR integer,  \n",
    "    INCIDENT_DATE date, \n",
    "    ADULT_VICTIM_COUNT float,\n",
    "    JUVENILE_VICTIM_COUNT float,\n",
    "    TOTAL_OFFENDER_COUNT integer,  \n",
    "    ADULT_OFFENDER_COUNT float,\n",
    "    JUVENILE_OFFENDER_COUNT float,\n",
    "    OFFENDER_RACE text, \n",
    "    OFFENDER_ETHNICITY text, \n",
    "    VICTIM_COUNT integer, \n",
    "    OFFENSE_NAME text,\n",
    "    TOTAL_INDIVIDUAL_VICTIMS float,\n",
    "    BIAS_DESC text, \n",
    "    VICTIM_TYPES text, \n",
    "    MULTIPLE_OFFENSE text, \n",
    "    MULTIPLE_BIAS text,\n",
    "    ORI text,\n",
    "    LOCATION_NAME text\n",
    ")\n",
    "\"\"\")\n",
    "conn.commit()\n",
    "print(\"Table created\")\n",
    "conn.close()"
   ]
  },
  {
   "cell_type": "code",
   "execution_count": 186,
   "id": "1956cf34",
   "metadata": {},
   "outputs": [],
   "source": [
    "conn = psycopg2.connect(host='localhost', dbname='hate_crime', user='postgres', password=password)\n",
    "\n",
    "cursor = conn.cursor()\n",
    "\n",
    "with open('incident.csv', 'r') as f:\n",
    "    next(f) # Skip the header row.\n",
    "    cursor.copy_from(f, 'incident', sep=',',null='')\n",
    "    \n",
    "conn.commit()\n",
    "conn.close()"
   ]
  },
  {
   "cell_type": "code",
   "execution_count": 187,
   "id": "0a940d1c",
   "metadata": {},
   "outputs": [
    {
     "name": "stdout",
     "output_type": "stream",
     "text": [
      "Table created\n"
     ]
    }
   ],
   "source": [
    "conn = psycopg2.connect(host='localhost', dbname='hate_crime', user='postgres', password=password)\n",
    "\n",
    "cursor = conn.cursor()\n",
    "\n",
    "cursor.execute(\"\"\"CREATE TABLE location(\n",
    "    ORI text NOT NULL,\n",
    "    PUB_AGENCY_NAME text,\n",
    "    PUB_AGENCY_UNIT text,\n",
    "    AGENCY_TYPE_NAME text,\n",
    "    STATE_ABBR text,\n",
    "    STATE_NAME text,\n",
    "    DIVISION_NAME text,\n",
    "    REGION_NAME text,\n",
    "    POPULATION_GROUP_CODE text,\n",
    "    POPULATION_GROUP_DESC text,\n",
    "    LOCATION_NAME text NOT NULL,\n",
    "    CONSTRAINT location_id PRIMARY KEY (ORI,LOCATION_NAME)\n",
    ")\n",
    "\"\"\")\n",
    "conn.commit()\n",
    "print(\"Table created\")\n",
    "conn.close()"
   ]
  },
  {
   "cell_type": "code",
   "execution_count": 188,
   "id": "9aae0224",
   "metadata": {},
   "outputs": [],
   "source": [
    "conn = psycopg2.connect(host='localhost', dbname='hate_crime', user='postgres', password=password)\n",
    "\n",
    "cursor = conn.cursor()\n",
    "\n",
    "with open('location.csv', 'r') as f:\n",
    "    next(f) # Skip the header row.\n",
    "    cursor.copy_from(f, 'location', sep=',',null='')\n",
    "    \n",
    "conn.commit()\n",
    "conn.close()"
   ]
  },
  {
   "cell_type": "code",
   "execution_count": 190,
   "id": "b8f342e2",
   "metadata": {},
   "outputs": [
    {
     "data": {
      "text/plain": [
       "('AR0350100',\n",
       " 'Pine Bluff',\n",
       " None,\n",
       " 'City',\n",
       " 'AR',\n",
       " 'Arkansas',\n",
       " 'West South Central',\n",
       " 'South',\n",
       " '3',\n",
       " 'Cities from 50 000 thru 99 999',\n",
       " 'Service/Gas Station')"
      ]
     },
     "execution_count": 190,
     "metadata": {},
     "output_type": "execute_result"
    }
   ],
   "source": [
    "conn = psycopg2.connect(host='localhost', dbname='hate_crime', user='postgres', password=password)\n",
    "\n",
    "cur = conn.cursor()\n",
    "\n",
    "cur.execute('SELECT * FROM location')\n",
    "one = cur.fetchone()\n",
    "all = cur.fetchall()\n",
    "\n",
    "one"
   ]
  },
  {
   "cell_type": "code",
   "execution_count": 191,
   "id": "3e504dd4",
   "metadata": {},
   "outputs": [],
   "source": [
    "conn.close()"
   ]
  },
  {
   "cell_type": "code",
   "execution_count": null,
   "id": "aa74d2ae",
   "metadata": {},
   "outputs": [],
   "source": []
  }
 ],
 "metadata": {
  "kernelspec": {
   "display_name": "Python 3 (ipykernel)",
   "language": "python",
   "name": "python3"
  },
  "language_info": {
   "codemirror_mode": {
    "name": "ipython",
    "version": 3
   },
   "file_extension": ".py",
   "mimetype": "text/x-python",
   "name": "python",
   "nbconvert_exporter": "python",
   "pygments_lexer": "ipython3",
   "version": "3.8.10"
  }
 },
 "nbformat": 4,
 "nbformat_minor": 5
}
